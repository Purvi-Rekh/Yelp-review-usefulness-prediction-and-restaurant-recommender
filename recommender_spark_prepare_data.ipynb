{
 "cells": [
  {
   "cell_type": "code",
   "execution_count": 1,
   "metadata": {},
   "outputs": [],
   "source": [
    "import pyspark as ps"
   ]
  },
  {
   "cell_type": "code",
   "execution_count": 4,
   "metadata": {},
   "outputs": [],
   "source": [
    "spark =(ps.sql.SparkSession.\n",
    "        builder.\n",
    "        master('local[4]')\n",
    "         .appName('lecture').\n",
    "        getOrCreate())"
   ]
  },
  {
   "cell_type": "code",
   "execution_count": 7,
   "metadata": {},
   "outputs": [],
   "source": [
    "sc=spark.sparkContext"
   ]
  },
  {
   "cell_type": "code",
   "execution_count": 8,
   "metadata": {},
   "outputs": [],
   "source": [
    "from pyspark.sql import SQLContext"
   ]
  },
  {
   "cell_type": "code",
   "execution_count": 9,
   "metadata": {},
   "outputs": [],
   "source": [
    "sqlcontext=SQLContext(sc)\n"
   ]
  },
  {
   "cell_type": "code",
   "execution_count": 10,
   "metadata": {},
   "outputs": [],
   "source": [
    "user=sqlcontext.read.json('yelp_dataset/user.json')"
   ]
  },
  {
   "cell_type": "code",
   "execution_count": 15,
   "metadata": {},
   "outputs": [],
   "source": [
    "user.createOrReplaceTempView(\"UserView\")"
   ]
  },
  {
   "cell_type": "code",
   "execution_count": 12,
   "metadata": {},
   "outputs": [
    {
     "name": "stdout",
     "output_type": "stream",
     "text": [
      "root\n",
      " |-- average_stars: double (nullable = true)\n",
      " |-- compliment_cool: long (nullable = true)\n",
      " |-- compliment_cute: long (nullable = true)\n",
      " |-- compliment_funny: long (nullable = true)\n",
      " |-- compliment_hot: long (nullable = true)\n",
      " |-- compliment_list: long (nullable = true)\n",
      " |-- compliment_more: long (nullable = true)\n",
      " |-- compliment_note: long (nullable = true)\n",
      " |-- compliment_photos: long (nullable = true)\n",
      " |-- compliment_plain: long (nullable = true)\n",
      " |-- compliment_profile: long (nullable = true)\n",
      " |-- compliment_writer: long (nullable = true)\n",
      " |-- cool: long (nullable = true)\n",
      " |-- elite: string (nullable = true)\n",
      " |-- fans: long (nullable = true)\n",
      " |-- friends: string (nullable = true)\n",
      " |-- funny: long (nullable = true)\n",
      " |-- name: string (nullable = true)\n",
      " |-- review_count: long (nullable = true)\n",
      " |-- useful: long (nullable = true)\n",
      " |-- user_id: string (nullable = true)\n",
      " |-- yelping_since: string (nullable = true)\n",
      "\n"
     ]
    }
   ],
   "source": [
    "user.printSchema()"
   ]
  },
  {
   "cell_type": "code",
   "execution_count": 16,
   "metadata": {},
   "outputs": [],
   "source": [
    "user_data = spark.sql(\"select * from UserView\")"
   ]
  },
  {
   "cell_type": "code",
   "execution_count": 31,
   "metadata": {},
   "outputs": [
    {
     "name": "stdout",
     "output_type": "stream",
     "text": [
      "+-------------+---------------+---------------+----------------+--------------+---------------+---------------+---------------+-----------------+----------------+------------------+-----------------+----+--------------+----+--------------------+-----+------+------------+------+--------------------+-------------------+\n",
      "|average_stars|compliment_cool|compliment_cute|compliment_funny|compliment_hot|compliment_list|compliment_more|compliment_note|compliment_photos|compliment_plain|compliment_profile|compliment_writer|cool|         elite|fans|             friends|funny|  name|review_count|useful|             user_id|      yelping_since|\n",
      "+-------------+---------------+---------------+----------------+--------------+---------------+---------------+---------------+-----------------+----------------+------------------+-----------------+----+--------------+----+--------------------+-----+------+------------+------+--------------------+-------------------+\n",
      "|         4.03|              1|              0|               1|             2|              0|              0|              1|                0|               1|                 0|                2|  25|2015,2016,2017|   5|c78V-rj8NQcQjOI8K...|   17|Rashmi|          95|    84|l6BmjZMeQD3rDxWUb...|2013-10-08 23:11:33|\n",
      "|         3.63|              1|              0|               1|             1|              0|              0|              0|                0|               0|                 0|                0|  16|              |   4|kEBTgDvFX754S68Fl...|   22| Jenna|          33|    48|4XChL029mKr5hydo7...|2013-02-21 22:29:06|\n",
      "+-------------+---------------+---------------+----------------+--------------+---------------+---------------+---------------+-----------------+----------------+------------------+-----------------+----+--------------+----+--------------------+-----+------+------------+------+--------------------+-------------------+\n",
      "only showing top 2 rows\n",
      "\n"
     ]
    }
   ],
   "source": [
    "user_data.show(2)"
   ]
  },
  {
   "cell_type": "code",
   "execution_count": 35,
   "metadata": {},
   "outputs": [
    {
     "data": {
      "text/plain": [
       "['average_stars',\n",
       " 'compliment_cool',\n",
       " 'compliment_cute',\n",
       " 'compliment_funny',\n",
       " 'compliment_hot',\n",
       " 'compliment_list',\n",
       " 'compliment_more',\n",
       " 'compliment_note',\n",
       " 'compliment_photos',\n",
       " 'compliment_plain',\n",
       " 'compliment_profile',\n",
       " 'compliment_writer',\n",
       " 'cool',\n",
       " 'elite',\n",
       " 'fans',\n",
       " 'friends',\n",
       " 'funny',\n",
       " 'name',\n",
       " 'review_count',\n",
       " 'useful',\n",
       " 'user_id',\n",
       " 'yelping_since']"
      ]
     },
     "execution_count": 35,
     "metadata": {},
     "output_type": "execute_result"
    }
   ],
   "source": [
    "user_data.columns"
   ]
  },
  {
   "cell_type": "code",
   "execution_count": 19,
   "metadata": {},
   "outputs": [],
   "source": [
    "business=sqlcontext.read.json('yelp_dataset/business.json')"
   ]
  },
  {
   "cell_type": "code",
   "execution_count": 23,
   "metadata": {},
   "outputs": [
    {
     "name": "stdout",
     "output_type": "stream",
     "text": [
      "root\n",
      " |-- address: string (nullable = true)\n",
      " |-- attributes: struct (nullable = true)\n",
      " |    |-- AcceptsInsurance: string (nullable = true)\n",
      " |    |-- AgesAllowed: string (nullable = true)\n",
      " |    |-- Alcohol: string (nullable = true)\n",
      " |    |-- Ambience: string (nullable = true)\n",
      " |    |-- BYOB: string (nullable = true)\n",
      " |    |-- BYOBCorkage: string (nullable = true)\n",
      " |    |-- BestNights: string (nullable = true)\n",
      " |    |-- BikeParking: string (nullable = true)\n",
      " |    |-- BusinessAcceptsBitcoin: string (nullable = true)\n",
      " |    |-- BusinessAcceptsCreditCards: string (nullable = true)\n",
      " |    |-- BusinessParking: string (nullable = true)\n",
      " |    |-- ByAppointmentOnly: string (nullable = true)\n",
      " |    |-- Caters: string (nullable = true)\n",
      " |    |-- CoatCheck: string (nullable = true)\n",
      " |    |-- Corkage: string (nullable = true)\n",
      " |    |-- DietaryRestrictions: string (nullable = true)\n",
      " |    |-- DogsAllowed: string (nullable = true)\n",
      " |    |-- DriveThru: string (nullable = true)\n",
      " |    |-- GoodForDancing: string (nullable = true)\n",
      " |    |-- GoodForKids: string (nullable = true)\n",
      " |    |-- GoodForMeal: string (nullable = true)\n",
      " |    |-- HairSpecializesIn: string (nullable = true)\n",
      " |    |-- HappyHour: string (nullable = true)\n",
      " |    |-- HasTV: string (nullable = true)\n",
      " |    |-- Music: string (nullable = true)\n",
      " |    |-- NoiseLevel: string (nullable = true)\n",
      " |    |-- Open24Hours: string (nullable = true)\n",
      " |    |-- OutdoorSeating: string (nullable = true)\n",
      " |    |-- RestaurantsAttire: string (nullable = true)\n",
      " |    |-- RestaurantsCounterService: string (nullable = true)\n",
      " |    |-- RestaurantsDelivery: string (nullable = true)\n",
      " |    |-- RestaurantsGoodForGroups: string (nullable = true)\n",
      " |    |-- RestaurantsPriceRange2: string (nullable = true)\n",
      " |    |-- RestaurantsReservations: string (nullable = true)\n",
      " |    |-- RestaurantsTableService: string (nullable = true)\n",
      " |    |-- RestaurantsTakeOut: string (nullable = true)\n",
      " |    |-- Smoking: string (nullable = true)\n",
      " |    |-- WheelchairAccessible: string (nullable = true)\n",
      " |    |-- WiFi: string (nullable = true)\n",
      " |-- business_id: string (nullable = true)\n",
      " |-- categories: string (nullable = true)\n",
      " |-- city: string (nullable = true)\n",
      " |-- hours: struct (nullable = true)\n",
      " |    |-- Friday: string (nullable = true)\n",
      " |    |-- Monday: string (nullable = true)\n",
      " |    |-- Saturday: string (nullable = true)\n",
      " |    |-- Sunday: string (nullable = true)\n",
      " |    |-- Thursday: string (nullable = true)\n",
      " |    |-- Tuesday: string (nullable = true)\n",
      " |    |-- Wednesday: string (nullable = true)\n",
      " |-- is_open: long (nullable = true)\n",
      " |-- latitude: double (nullable = true)\n",
      " |-- longitude: double (nullable = true)\n",
      " |-- name: string (nullable = true)\n",
      " |-- postal_code: string (nullable = true)\n",
      " |-- review_count: long (nullable = true)\n",
      " |-- stars: double (nullable = true)\n",
      " |-- state: string (nullable = true)\n",
      "\n"
     ]
    }
   ],
   "source": [
    "business.printSchema()"
   ]
  },
  {
   "cell_type": "code",
   "execution_count": 20,
   "metadata": {},
   "outputs": [],
   "source": [
    "business.createOrReplaceTempView(\"yelp_business\")"
   ]
  },
  {
   "cell_type": "code",
   "execution_count": 21,
   "metadata": {},
   "outputs": [],
   "source": [
    "business_data = spark.sql(\"select * from yelp_business\")\n"
   ]
  },
  {
   "cell_type": "code",
   "execution_count": 24,
   "metadata": {},
   "outputs": [
    {
     "name": "stdout",
     "output_type": "stream",
     "text": [
      "+--------------------+--------------------+--------------------+--------------------+-----------+--------------------+-------+-------------+-------------+--------------------+-----------+------------+-----+-----+\n",
      "|             address|          attributes|         business_id|          categories|       city|               hours|is_open|     latitude|    longitude|                name|postal_code|review_count|stars|state|\n",
      "+--------------------+--------------------+--------------------+--------------------+-----------+--------------------+-------+-------------+-------------+--------------------+-----------+------------+-----+-----+\n",
      "|2818 E Camino Ace...|[,,,,,,,,,,,,,,,,...|1SWheh84yJXfytovI...|   Golf, Active Life|    Phoenix|                null|      0|   33.5221425| -112.0184807|Arizona Biltmore ...|      85016|           5|  3.0|   AZ|\n",
      "|30 Eglinton Avenue W|[,, u'full_bar', ...|QXAEGFB4oINsVuTFx...|Specialty Food, R...|Mississauga|[9:0-1:0, 9:0-0:0...|      1|43.6054989743|-79.652288909|Emerald Chinese R...|    L5R 3E7|         128|  2.5|   ON|\n",
      "+--------------------+--------------------+--------------------+--------------------+-----------+--------------------+-------+-------------+-------------+--------------------+-----------+------------+-----+-----+\n",
      "only showing top 2 rows\n",
      "\n"
     ]
    }
   ],
   "source": [
    "business_data.show(2)"
   ]
  },
  {
   "cell_type": "code",
   "execution_count": 26,
   "metadata": {},
   "outputs": [],
   "source": [
    "review=sqlcontext.read.json('yelp_dataset/review.json')\n",
    "review.createOrReplaceTempView(\"yelp_review\")\n",
    "review_data=spark.sql(\"select * from yelp_review\")"
   ]
  },
  {
   "cell_type": "code",
   "execution_count": 27,
   "metadata": {},
   "outputs": [
    {
     "name": "stdout",
     "output_type": "stream",
     "text": [
      "+--------------------+----+-------------------+-----+--------------------+-----+--------------------+------+--------------------+\n",
      "|         business_id|cool|               date|funny|           review_id|stars|                text|useful|             user_id|\n",
      "+--------------------+----+-------------------+-----+--------------------+-----+--------------------+------+--------------------+\n",
      "|ujmEBvifdJM6h6RLv...|   0|2013-05-07 04:34:36|    1|Q1sbwvVQXV2734tPg...|  1.0|Total bill for th...|     6|hG7b0MtEbXx5QzbzE...|\n",
      "|NZnhc2sEQy3RmzKTZ...|   0|2017-01-14 21:30:33|    0|GJXCdrto3ASJOqKeV...|  5.0|I *adore* Travis ...|     0|yXQM5uF2jS6es16SJ...|\n",
      "+--------------------+----+-------------------+-----+--------------------+-----+--------------------+------+--------------------+\n",
      "only showing top 2 rows\n",
      "\n"
     ]
    }
   ],
   "source": [
    "review_data.show(2)"
   ]
  },
  {
   "cell_type": "code",
   "execution_count": 32,
   "metadata": {},
   "outputs": [
    {
     "name": "stdout",
     "output_type": "stream",
     "text": [
      "root\n",
      " |-- business_id: string (nullable = true)\n",
      " |-- cool: long (nullable = true)\n",
      " |-- date: string (nullable = true)\n",
      " |-- funny: long (nullable = true)\n",
      " |-- review_id: string (nullable = true)\n",
      " |-- stars: double (nullable = true)\n",
      " |-- text: string (nullable = true)\n",
      " |-- useful: long (nullable = true)\n",
      " |-- user_id: string (nullable = true)\n",
      "\n"
     ]
    }
   ],
   "source": [
    "review.printSchema()"
   ]
  },
  {
   "cell_type": "code",
   "execution_count": 34,
   "metadata": {},
   "outputs": [
    {
     "name": "stdout",
     "output_type": "stream",
     "text": [
      "+--------------------+--------------------+-----+\n",
      "|         business_id|             user_id|stars|\n",
      "+--------------------+--------------------+-----+\n",
      "|ujmEBvifdJM6h6RLv...|hG7b0MtEbXx5QzbzE...|  1.0|\n",
      "|NZnhc2sEQy3RmzKTZ...|yXQM5uF2jS6es16SJ...|  5.0|\n",
      "|WTqjgwHlXbSFevF32...|n6-Gk65cPZL6Uz8qR...|  5.0|\n",
      "|ikCg8xy5JIg_NGPx-...|dacAIZ6fTM6mqwW5u...|  5.0|\n",
      "|b1b1eb3uo-w561D0Z...|ssoyf2_x0EQMed6fg...|  1.0|\n",
      "|eU_713ec6fTGNO4Be...|w31MKYsNFMrjhWxxA...|  4.0|\n",
      "|3fw2X5bZYeW9xCz_z...|jlu4CztcSxrKx56ba...|  3.0|\n",
      "|zvO-PJCpNk4fgAVUn...|d6xvYpyzcfbF_AZ8v...|  1.0|\n",
      "|b2jN2mm9Wf3RcrZCg...|sG_h0dIzTKWa3Q6fm...|  2.0|\n",
      "|oxwGyA17NL6c5t1Et...|nMeCE5-xsdleyxYuN...|  3.0|\n",
      "|8mIrX_LrOnAqWsB5J...|FIk4lQQu1eTe2EpzQ...|  4.0|\n",
      "|mRUVMJkUGxrByzMQ2...|-mA3-1mN4JIEkqOtd...|  1.0|\n",
      "|FxLfqxdYPA6Z85PFK...|GYNnVehQeXjty0xH7...|  4.0|\n",
      "|LUN6swQYa4xJKaM_U...|bAhqAPoWaZYcyYi7b...|  4.0|\n",
      "|AakkkTuGZA2KBodKi...|TpyOT5E16YASd7EWj...|  1.0|\n",
      "|YvrylyuWgbP90RgMq...|NJlxGtouq06hhC7sS...|  5.0|\n",
      "|NyLYY8q1-H3hfsTwu...|86J5DwcFk4f4In1Vx...|  4.0|\n",
      "|cHdJXLlKNWixBXpDw...|JSrP-dUmLlwZiI7Dp...|  3.0|\n",
      "|6lj2BJ4tJeu7db5as...|6Fz_nus_OG4gar721...|  5.0|\n",
      "|y-Iw6dZflNix4BdwI...|_N7Ndn29bpll_961o...|  3.0|\n",
      "+--------------------+--------------------+-----+\n",
      "only showing top 20 rows\n",
      "\n"
     ]
    }
   ],
   "source": [
    "review_user_star = spark.sql(\"select business_id, user_id, stars from yelp_review\")\n",
    "review_user_star.show()"
   ]
  },
  {
   "cell_type": "code",
   "execution_count": 40,
   "metadata": {},
   "outputs": [
    {
     "name": "stdout",
     "output_type": "stream",
     "text": [
      "+--------------------+--------------------+--------------------+------+--------------------+-----+-----+----+--------------------+--------+\n",
      "|         business_id|                name|          categories|useful|                text|stars|funny|cool|             user_id|    name|\n",
      "+--------------------+--------------------+--------------------+------+--------------------+-----+-----+----+--------------------+--------+\n",
      "|XvuUYiJYAAiNC4Amd...|      Tandoori Grill|Specialty Food, R...|     0|You can never go ...|  5.0|    0|   0|-LFUxu48rLMWmOVN2...| Miranda|\n",
      "|TfabYPasZ1oOMN6JL...|        India Palace|Herbs & Spices, F...|     0|We stopped for di...|  5.0|    0|   0|-QiFLgn_jBdTFcwka...|     Lee|\n",
      "|qiZ7t01x0xqqB0RIv...|    The Bombay Grill|Indian, Food, Res...|     0|Relied on ratings...|  4.0|    0|   0|-ZofWirnfYXaa3iCH...| William|\n",
      "|Mv6ripiINornDXI07...|Villa's Mexican Food|Indian, Food, Mex...|     0|Portions are larg...|  3.0|    1|   1|-dV1Z7attfgdpyNpZ...|    Neal|\n",
      "|fZGTgKUNKKuOKC2tg...|Bangal Kabab Hous...|Indian, Halal, Re...|     2|So I ordered some...|  1.0|    3|   1|-hnBzgVoRoqLrGVSx...|  Afroza|\n",
      "|-R2kwt0qMnzwEdAfX...|          Udipi Cafe|Pakistani, Indian...|     0|Excellent idlis, ...|  4.0|    0|   0|-hnBzgVoRoqLrGVSx...|  Afroza|\n",
      "|0cf-w9PK5gLkBkitL...|        India Garden|Buffets, Indian, ...|     0|The Indian food h...|  4.0|    0|   0|-inp099-1gsJF3KPa...|Samantha|\n",
      "|yet0Pww_ouW49T7V4...|           The Dhaba|Seafood, Pakistan...|     0|I tried this plac...|  4.0|    0|   0|-inp099-1gsJF3KPa...|Samantha|\n",
      "|171c2z28JaSYQtWim...|    Indian Bread Bar| Indian, Restaurants|     5|we tried groupon....|  1.0|    0|   0|-xuYnB-HwZIQJVzRX...|    Mimi|\n",
      "|kEIe_lyBKdFB6Hv_w...|    Curry in the Box|Thai, Restaurants...|     0|The curry tastes ...|  3.0|    0|   0|01HpNrCSLNWbQG9Fv...|   Grace|\n",
      "|9N7VAcNFqjHptX3vR...|        Earth Indian|Indian, Restauran...|     0|these guys do a p...|  5.0|    1|   0|0LUt7xSvYgLpL0zBe...|   Jovel|\n",
      "|fp24IseF5LGD1Iev7...|       India's Taste|Restaurants, Indi...|     1|one of the best i...|  5.0|    0|   1|0LUt7xSvYgLpL0zBe...|   Jovel|\n",
      "|DNSDAtD6uxQkoZkQe...|Curry Leaf Flavor...|Desserts, Food, B...|     0|Definitely my new...|  5.0|    0|   0|0M4x1qpXH1-Ssuepp...|    Most|\n",
      "|xtYiHTmunjfCN2sUa...|Rio All Suites Ho...|Shopping, Arts & ...|     1|Stayed in Rio ove...|  1.0|    0|   0|0RjC8kvCsmFm0eLi2...|   Shawn|\n",
      "|iw1WJt3wl6-NquZGK...|        Desi Burrito|Indian, Nightlife...|     0|The food was deli...|  5.0|    0|   0|1Qo3Pw-XRPaaNfpGP...| Heather|\n",
      "|b4LxjVnFdOCqRKxfw...|Namaste India Garden| Indian, Restaurants|     0|Fried cauliflower...|  5.0|    0|   0|1_JELIFSgGVwz4oZV...|   Joyce|\n",
      "|CNx_ie_OvjJHZLZ6y...|Mantra Indian Cui...| Indian, Restaurants|     0|I went for lunch ...|  5.0|    0|   0|24EqVhT50cdvqx-Gn...|   Halie|\n",
      "|wc1q2e5vSTAzDcfUO...|             Sankalp| Indian, Restaurants|     5|We went to Sankal...|  1.0|    2|   0|2P9XvVc75SQUDCYA8...|  Norris|\n",
      "|Mn6PbumS7GL2v3jPi...|               Tamba|Gluten-Free, Paki...|     0|Escondido en una ...|  4.0|    0|   0|2QCW0fm-mDleaL8KN...|    Atse|\n",
      "|7BIbvCkI7AXQMVC1-...|Priya Indian Cuisine|Indian, Restauran...|     1|I was passing thr...|  2.0|    0|   0|2SawL1rTPfaj92ph1...|   Vijay|\n",
      "+--------------------+--------------------+--------------------+------+--------------------+-----+-----+----+--------------------+--------+\n",
      "only showing top 20 rows\n",
      "\n"
     ]
    }
   ],
   "source": [
    "sql_buss_user_rev=\"\"\"SELECT distinct b.business_id,b.name,b.categories,r.useful,r.text,r.stars,r.funny,r.cool,u.user_id,u.name\n",
    "                               from yelp_business b inner join yelp_review r on r.business_id = b.business_id \n",
    "                               inner join UserView as u on u.user_id = r.user_id \n",
    "                               where categories like '%India%'\"\"\"\n",
    "business_user_data = spark.sql(sql_buss_user_rev)\n",
    "business_user_data.show()"
   ]
  },
  {
   "cell_type": "code",
   "execution_count": 41,
   "metadata": {},
   "outputs": [],
   "source": [
    "df_business_user_data=business_user_data.toPandas()"
   ]
  },
  {
   "cell_type": "code",
   "execution_count": 42,
   "metadata": {},
   "outputs": [],
   "source": [
    "df_business_user_data.to_csv(\"data_recommender/user_buss_star.csv\")"
   ]
  },
  {
   "cell_type": "code",
   "execution_count": 28,
   "metadata": {},
   "outputs": [],
   "source": [
    "tip=sqlcontext.read.json('yelp_dataset/tip.json')\n",
    "tip.createOrReplaceTempView(\"yelp_tip\")\n",
    "tip_data=spark.sql(\"select * from yelp_tip\")"
   ]
  },
  {
   "cell_type": "code",
   "execution_count": 29,
   "metadata": {},
   "outputs": [
    {
     "name": "stdout",
     "output_type": "stream",
     "text": [
      "+--------------------+----------------+-------------------+--------------------+--------------------+\n",
      "|         business_id|compliment_count|               date|                text|             user_id|\n",
      "+--------------------+----------------+-------------------+--------------------+--------------------+\n",
      "|VaKXUpmWTTWDKbpJ3...|               0|2014-03-27 03:51:24|Great for watchin...|UPw5DWs_b-e2JRBS-...|\n",
      "|OPiPeoJiv92rENwbq...|               0|2013-05-25 06:00:56|Happy Hour 2-4 da...|Ocha4kZBHb4JK0lOW...|\n",
      "+--------------------+----------------+-------------------+--------------------+--------------------+\n",
      "only showing top 2 rows\n",
      "\n"
     ]
    }
   ],
   "source": [
    "tip_data.show(2)"
   ]
  },
  {
   "cell_type": "code",
   "execution_count": 30,
   "metadata": {},
   "outputs": [
    {
     "name": "stdout",
     "output_type": "stream",
     "text": [
      "+--------------------+--------------------+\n",
      "|         business_id|                date|\n",
      "+--------------------+--------------------+\n",
      "|--1UhMGODdWsrMast...|2016-04-26 19:49:...|\n",
      "|--6MefnULPED_I942...|2011-06-04 18:22:...|\n",
      "+--------------------+--------------------+\n",
      "only showing top 2 rows\n",
      "\n"
     ]
    }
   ],
   "source": [
    "checkin=sqlcontext.read.json('yelp_dataset/checkin.json')\n",
    "checkin.createOrReplaceTempView(\"yelp_checkin\")\n",
    "checkin_data=spark.sql(\"select * from yelp_checkin\")\n",
    "checkin_data.show(2)"
   ]
  },
  {
   "cell_type": "code",
   "execution_count": null,
   "metadata": {},
   "outputs": [],
   "source": []
  }
 ],
 "metadata": {
  "kernelspec": {
   "display_name": "Python 3",
   "language": "python",
   "name": "python3"
  },
  "language_info": {
   "codemirror_mode": {
    "name": "ipython",
    "version": 3
   },
   "file_extension": ".py",
   "mimetype": "text/x-python",
   "name": "python",
   "nbconvert_exporter": "python",
   "pygments_lexer": "ipython3",
   "version": "3.7.3"
  }
 },
 "nbformat": 4,
 "nbformat_minor": 4
}
